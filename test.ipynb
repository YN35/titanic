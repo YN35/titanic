{
 "cells": [
  {
   "cell_type": "code",
   "execution_count": 2,
   "id": "f14c044b-f2eb-4988-bfa5-39465644c50b",
   "metadata": {},
   "outputs": [
    {
     "name": "stdout",
     "output_type": "stream",
     "text": [
      "wawa\n"
     ]
    }
   ],
   "source": [
    "print(\"wawa\")"
   ]
  },
  {
   "cell_type": "code",
   "execution_count": 3,
   "id": "29ba1c50-8a84-4d40-a241-cd6fdb60c513",
   "metadata": {},
   "outputs": [
    {
     "data": {
      "text/plain": [
       "3"
      ]
     },
     "execution_count": 3,
     "metadata": {},
     "output_type": "execute_result"
    }
   ],
   "source": [
    "1+2"
   ]
  },
  {
   "cell_type": "code",
   "execution_count": null,
   "id": "f3829eca-8ca6-4e39-8972-6e10c1e1ec60",
   "metadata": {},
   "outputs": [],
   "source": []
  }
 ],
 "metadata": {
  "kernelspec": {
   "display_name": "Python 3 (ipykernel)",
   "language": "python",
   "name": "python3"
  },
  "language_info": {
   "codemirror_mode": {
    "name": "ipython",
    "version": 3
   },
   "file_extension": ".py",
   "mimetype": "text/x-python",
   "name": "python",
   "nbconvert_exporter": "python",
   "pygments_lexer": "ipython3",
   "version": "3.7.12"
  }
 },
 "nbformat": 4,
 "nbformat_minor": 5
}
